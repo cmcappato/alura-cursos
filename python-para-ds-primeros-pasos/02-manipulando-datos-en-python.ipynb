{
 "cells": [
  {
   "cell_type": "markdown",
   "id": "08d88a90",
   "metadata": {},
   "source": [
    "**Recopilación y muestra de datos**"
   ]
  },
  {
   "cell_type": "markdown",
   "id": "407c6541",
   "metadata": {},
   "source": [
    "1 - Crea un programa que solicite al usuario que escriba su nombre y luego imprima \"Hola, [nombre].\""
   ]
  },
  {
   "cell_type": "code",
   "execution_count": null,
   "id": "a2a789db",
   "metadata": {},
   "outputs": [
    {
     "name": "stdout",
     "output_type": "stream",
     "text": [
      "Hola, Carolina\n"
     ]
    }
   ],
   "source": [
    "nombre = input(\"Ingrese su nombre: \")\n",
    "print(f\"Hola, {nombre}\")"
   ]
  },
  {
   "cell_type": "markdown",
   "id": "b3c7cffe",
   "metadata": {},
   "source": [
    "2 - Crea un programa que solicite al usuario que escriba su nombre y edad, y luego imprima \"Hola, [nombre], tienes [edad] años.\""
   ]
  },
  {
   "cell_type": "code",
   "execution_count": 3,
   "id": "e50ec1ea",
   "metadata": {},
   "outputs": [
    {
     "name": "stdout",
     "output_type": "stream",
     "text": [
      "Hola, Carolina , tienes 31 años.\n"
     ]
    }
   ],
   "source": [
    "nombre = input(\"Ingrese su nombre: \")\n",
    "edad = int(input(\"Ingrese su edad: \"))\n",
    "print(\"Hola,\", nombre, \", tienes\", edad, \"años.\")"
   ]
  },
  {
   "cell_type": "markdown",
   "id": "58b541d7",
   "metadata": {},
   "source": [
    "3 - Crea un programa que solicite al usuario que escriba su nombre, edad y altura en metros, y luego imprima \"Hola, [nombre], tienes [edad] años y mides [altura] metros.\""
   ]
  },
  {
   "cell_type": "code",
   "execution_count": null,
   "id": "b8943ddd",
   "metadata": {},
   "outputs": [
    {
     "name": "stdout",
     "output_type": "stream",
     "text": [
      "Hola, Carolina , tienes 31 años y mides 1.66 metros.\n"
     ]
    }
   ],
   "source": [
    "nombre = input(\"Ingrese su nombre: \")\n",
    "edad = int(input(\"Ingrese su edad: \"))\n",
    "altura = float(input(\"Ingrese su altura en metros: \"))\n",
    "print(f\"Hola, {nombre} tienes {edad} años y mides {altura} metros.\")"
   ]
  },
  {
   "cell_type": "markdown",
   "id": "b504d036",
   "metadata": {},
   "source": [
    "**Calculadora con operadores**"
   ]
  },
  {
   "cell_type": "markdown",
   "id": "f13ce01f",
   "metadata": {},
   "source": [
    "4 - Crea un programa que solicite dos valores numéricos al usuario y luego imprima la suma de ambos valores."
   ]
  },
  {
   "cell_type": "code",
   "execution_count": null,
   "id": "8ae89046",
   "metadata": {},
   "outputs": [
    {
     "name": "stdout",
     "output_type": "stream",
     "text": [
      "La suma de los números ingresados es: 9\n"
     ]
    }
   ],
   "source": [
    "numero_uno = int(input(\"Ingrese el primer número: \"))\n",
    "numero_dos = int(input(\"Ingrese el segundo número: \"))\n",
    "\n",
    "suma = numero_uno + numero_dos\n",
    "\n",
    "print(f\"La suma de los números ingresados es: {suma}\")"
   ]
  },
  {
   "cell_type": "markdown",
   "id": "b3b9a02e",
   "metadata": {},
   "source": [
    "5 - Crea un programa que solicite tres valores numéricos al usuario y luego imprima la suma de los tres valores."
   ]
  },
  {
   "cell_type": "code",
   "execution_count": null,
   "id": "62efae3f",
   "metadata": {},
   "outputs": [
    {
     "name": "stdout",
     "output_type": "stream",
     "text": [
      "La suma de los números ingresados es: 15\n"
     ]
    }
   ],
   "source": [
    "numero_uno = int(input(\"Ingrese el primer número: \"))\n",
    "numero_dos = int(input(\"Ingrese el segundo número: \"))\n",
    "numero_tres = int(input(\"Ingrese el tercer número: \"))\n",
    "\n",
    "suma = numero_uno + numero_dos + numero_tres\n",
    "\n",
    "print(f\"La suma de los números ingresados es: {suma}\")"
   ]
  },
  {
   "cell_type": "markdown",
   "id": "28ab5463",
   "metadata": {},
   "source": [
    "6 - Crea un programa que solicite dos valores numéricos al usuario y luego imprima la resta del primero menos el segundo valor."
   ]
  },
  {
   "cell_type": "code",
   "execution_count": null,
   "id": "95974292",
   "metadata": {},
   "outputs": [
    {
     "name": "stdout",
     "output_type": "stream",
     "text": [
      "La diferencia de los números ingresados es: 5\n"
     ]
    }
   ],
   "source": [
    "numero_uno = int(input(\"Ingrese el primer número: \"))\n",
    "numero_dos = int(input(\"Ingrese el segundo número: \"))\n",
    "\n",
    "resta = numero_uno - numero_dos\n",
    "\n",
    "print(f\"La diferencia de los números ingresados es: {resta}\")"
   ]
  },
  {
   "cell_type": "markdown",
   "id": "578362c8",
   "metadata": {},
   "source": [
    "7 - Crea un programa que solicite dos valores numéricos al usuario y luego imprima la multiplicación de los dos valores."
   ]
  },
  {
   "cell_type": "code",
   "execution_count": null,
   "id": "3db7bd1f",
   "metadata": {},
   "outputs": [
    {
     "name": "stdout",
     "output_type": "stream",
     "text": [
      "La multiplicación de los números ingresados es: 4\n"
     ]
    }
   ],
   "source": [
    "numero_uno = int(input(\"Ingrese el primer número: \"))\n",
    "numero_dos = int(input(\"Ingrese el segundo número: \"))\n",
    "\n",
    "producto = numero_uno * numero_dos\n",
    "\n",
    "print(f\"La multiplicación de los números ingresados es: {producto}\")"
   ]
  },
  {
   "cell_type": "markdown",
   "id": "51c7321b",
   "metadata": {},
   "source": [
    "8 - Crea un programa que solicite dos valores numéricos, un numerador y un denominador, y realice la división entre los dos valores. Asegúrate de que el valor del denominador no sea igual a 0."
   ]
  },
  {
   "cell_type": "code",
   "execution_count": null,
   "id": "2a5fb85a",
   "metadata": {},
   "outputs": [
    {
     "name": "stdout",
     "output_type": "stream",
     "text": [
      "La división de los números ingresados es: 2.3333333333333335\n"
     ]
    }
   ],
   "source": [
    "numerador = int(input(\"Ingrese el primer número: \"))\n",
    "denominador = int(input(\"Ingrese el segundo número: \"))\n",
    "\n",
    "while denominador == 0:\n",
    "    denominador = int(input(\"El denominador no puede ser 0, ingrese otro número: \"))\n",
    "\n",
    "resultado = numerador / denominador\n",
    "\n",
    "print(f\"La división de los números ingresados es: {resultado}\")"
   ]
  },
  {
   "cell_type": "markdown",
   "id": "1e570acb",
   "metadata": {},
   "source": [
    "9 - Crea un programa que solicite dos valores numéricos, un operador y una potencia, y realice la exponenciación entre estos dos valores."
   ]
  },
  {
   "cell_type": "code",
   "execution_count": null,
   "id": "98589fcb",
   "metadata": {},
   "outputs": [
    {
     "name": "stdout",
     "output_type": "stream",
     "text": [
      "La exponenciación de 4 elevado a 3 es: 64\n"
     ]
    }
   ],
   "source": [
    "numero_uno = int(input(\"Ingrese el primer número: \"))\n",
    "numero_dos = int(input(\"Ingrese el segundo número: \"))\n",
    "\n",
    "exponenciacion = numero_uno ** numero_dos\n",
    "\n",
    "print(f\"La exponenciación de {numero_uno} elevado a {numero_dos} es: {exponenciacion}\")"
   ]
  },
  {
   "cell_type": "markdown",
   "id": "332dd5e3",
   "metadata": {},
   "source": [
    "10 - Crea un programa que solicite dos valores numéricos, un numerador y un denominador, y realice la división entera entre los dos valores. Asegúrate de que el valor del denominador no sea igual a 0."
   ]
  },
  {
   "cell_type": "code",
   "execution_count": 1,
   "id": "afbbbb77",
   "metadata": {},
   "outputs": [
    {
     "name": "stdout",
     "output_type": "stream",
     "text": [
      "La división de los números ingresados es: 1\n"
     ]
    }
   ],
   "source": [
    "numerador = int(input(\"Ingrese el primer número: \"))\n",
    "denominador = int(input(\"Ingrese el segundo número: \"))\n",
    "\n",
    "while denominador == 0:\n",
    "    denominador = int(input(\"El denominador no puede ser 0, ingrese otro número: \"))\n",
    "\n",
    "resultado = numerador // denominador\n",
    "\n",
    "print(f\"La división de los números ingresados es: {resultado}\")"
   ]
  },
  {
   "cell_type": "code",
   "execution_count": null,
   "id": "fd6c0f41",
   "metadata": {},
   "outputs": [],
   "source": []
  },
  {
   "cell_type": "markdown",
   "id": "238e5c89",
   "metadata": {},
   "source": [
    "11 - Crea un programa que solicite dos valores numéricos, un numerador y un denominador, y devuelva el resto de la división entre los dos valores. Asegúrate de que el valor del denominador no sea igual a 0."
   ]
  },
  {
   "cell_type": "markdown",
   "id": "8d1f61fc",
   "metadata": {},
   "source": [
    "12 - Crea un código que solicite las 3 notas de un estudiante e imprima el promedio de las notas."
   ]
  },
  {
   "cell_type": "code",
   "execution_count": null,
   "id": "117fd436",
   "metadata": {},
   "outputs": [
    {
     "name": "stdout",
     "output_type": "stream",
     "text": [
      "El promedio del alumno es: 5.666666666666667\n"
     ]
    }
   ],
   "source": [
    "nota_uno = int(input(\"Ingrese el primer número: \"))\n",
    "nota_dos = int(input(\"Ingrese el segundo número: \"))\n",
    "nota_tres = int(input(\"Ingrese el tercer número: \"))\n",
    "\n",
    "promedio = (nota_uno + nota_dos + nota_tres) / 3\n",
    "\n",
    "print(f\"El promedio del alumno es: {promedio}\")"
   ]
  },
  {
   "cell_type": "markdown",
   "id": "0ba8650e",
   "metadata": {},
   "source": [
    "13 - Crea un código que calcule e imprima el promedio ponderado de los números 5, 12, 20 y 15 con pesos respectivamente iguales a 1, 2, 3 y 4."
   ]
  },
  {
   "cell_type": "markdown",
   "id": "69cc4068",
   "metadata": {},
   "source": [
    "**Editando textos**"
   ]
  },
  {
   "cell_type": "markdown",
   "id": "6b5bfd27",
   "metadata": {},
   "source": [
    "14 - Crea una variable llamada \"frase\" y asígnale una cadena de texto de tu elección. Luego, imprime la frase en pantalla."
   ]
  },
  {
   "cell_type": "markdown",
   "id": "4e84f922",
   "metadata": {},
   "source": [
    "15 - Crea un código que solicite una frase y luego imprima la frase en pantalla."
   ]
  },
  {
   "cell_type": "markdown",
   "id": "64e30a74",
   "metadata": {},
   "source": [
    "16 - Crea un código que solicite una frase al usuario y luego imprima la misma frase ingresada pero en mayúsculas."
   ]
  },
  {
   "cell_type": "markdown",
   "id": "908f53d7",
   "metadata": {},
   "source": [
    "17 - Crea un código que solicite una frase al usuario y luego imprima la misma frase ingresada pero en minúsculas."
   ]
  },
  {
   "cell_type": "markdown",
   "id": "69c5bd1c",
   "metadata": {},
   "source": [
    "18 - Crea una variable llamada \"frase\" y asígnale una cadena de texto de tu elección. Luego, imprime la frase sin espacios en blanco al principio y al final."
   ]
  },
  {
   "cell_type": "markdown",
   "id": "af9e8dbc",
   "metadata": {},
   "source": [
    "19 - Crea un código que solicite una frase al usuario y luego imprima la misma frase sin espacios en blanco al principio y al final."
   ]
  },
  {
   "cell_type": "markdown",
   "id": "cbf7d329",
   "metadata": {},
   "source": [
    "20 - Crea un código que solicite una frase al usuario y luego imprima la misma frase sin espacios en blanco al principio y al final, además de convertirla a minúsculas."
   ]
  },
  {
   "cell_type": "markdown",
   "id": "183cd0dc",
   "metadata": {},
   "source": [
    "21 - Crea un código que solicite una frase al usuario y luego imprima la misma frase con todas las vocales \"e\" reemplazadas por la letra \"f\"."
   ]
  },
  {
   "cell_type": "markdown",
   "id": "8f732bc4",
   "metadata": {},
   "source": [
    "22 - Crea un código que solicite una frase al usuario y luego imprima la misma frase con todas las vocales \"a\" reemplazadas por el carácter \"@\"."
   ]
  },
  {
   "cell_type": "markdown",
   "id": "ded989fc",
   "metadata": {},
   "source": [
    "23 - Crea un código que solicite una frase al usuario y luego imprima la misma frase con todas las consonantes \"s\" reemplazadas por el carácter \"$\"."
   ]
  }
 ],
 "metadata": {
  "kernelspec": {
   "display_name": "Python 3",
   "language": "python",
   "name": "python3"
  },
  "language_info": {
   "codemirror_mode": {
    "name": "ipython",
    "version": 3
   },
   "file_extension": ".py",
   "mimetype": "text/x-python",
   "name": "python",
   "nbconvert_exporter": "python",
   "pygments_lexer": "ipython3",
   "version": "3.13.2"
  }
 },
 "nbformat": 4,
 "nbformat_minor": 5
}
