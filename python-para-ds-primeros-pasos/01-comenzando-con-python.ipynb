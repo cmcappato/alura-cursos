{
 "cells": [
  {
   "cell_type": "markdown",
   "id": "409fe1a0",
   "metadata": {},
   "source": [
    "1 - Imprime la frase \"Escuela de Datos de Alura\"."
   ]
  },
  {
   "cell_type": "code",
   "execution_count": 9,
   "id": "ec34d274",
   "metadata": {},
   "outputs": [
    {
     "name": "stdout",
     "output_type": "stream",
     "text": [
      "Escuela de Datos de Alura\n"
     ]
    }
   ],
   "source": [
    "print(\"Escuela de Datos de Alura\")"
   ]
  },
  {
   "cell_type": "markdown",
   "id": "8a7e90b1",
   "metadata": {},
   "source": [
    "2 - Imprime tu nombre y tu apellido siguiendo la estructura a continuación:\n",
    "Nombre: [tu nombre]\n",
    "Apellido: [tu apellido]"
   ]
  },
  {
   "cell_type": "code",
   "execution_count": 11,
   "id": "d3743629",
   "metadata": {},
   "outputs": [
    {
     "name": "stdout",
     "output_type": "stream",
     "text": [
      "Nombre: Carolina\n",
      "Apellido: Cappato\n"
     ]
    }
   ],
   "source": [
    "print(\"Nombre: Carolina\")\n",
    "print(\"Apellido: Cappato\")"
   ]
  },
  {
   "cell_type": "markdown",
   "id": "c2acca0d",
   "metadata": {},
   "source": [
    "3 - Imprime tu primer nombre letra por letra. Por ejemplo, si mi nombre es Álvaro, la salida sería:\n",
    "Á\n",
    "L\n",
    "V\n",
    "A\n",
    "R\n",
    "O"
   ]
  },
  {
   "cell_type": "code",
   "execution_count": 12,
   "id": "01cb68a9",
   "metadata": {},
   "outputs": [
    {
     "name": "stdout",
     "output_type": "stream",
     "text": [
      "C\n",
      "A\n",
      "R\n",
      "O\n",
      "L\n",
      "I\n",
      "N\n",
      "A\n"
     ]
    }
   ],
   "source": [
    "print(\"C\")\n",
    "print(\"A\")\n",
    "print(\"R\")\n",
    "print(\"O\")\n",
    "print(\"L\")\n",
    "print(\"I\")\n",
    "print(\"N\")\n",
    "print(\"A\")"
   ]
  },
  {
   "cell_type": "markdown",
   "id": "23987d71",
   "metadata": {},
   "source": [
    "4 - Imprime tu fecha de nacimiento en formato día mes año. Recuerda que los valores de día y año no deben estar entre comillas. Suponiendo una fecha de cumpleaños el 28 de febrero de 2003, el formato debe ser como el siguiente:\n",
    "28 febrero 2003"
   ]
  },
  {
   "cell_type": "code",
   "execution_count": 13,
   "id": "712f2de5",
   "metadata": {},
   "outputs": [
    {
     "name": "stdout",
     "output_type": "stream",
     "text": [
      "22 noviembre 1993\n"
     ]
    }
   ],
   "source": [
    "print(22, \"noviembre\", 1993)"
   ]
  },
  {
   "cell_type": "markdown",
   "id": "0cf0988f",
   "metadata": {},
   "source": [
    "5 - Imprime, en una sola instrucción print, el año actual en el que estás realizando este curso. El valor del año debe ser un dato numérico, y la salida de print debe ser la siguiente:\n",
    "Año actual: [año]"
   ]
  },
  {
   "cell_type": "code",
   "execution_count": 14,
   "id": "be27a78d",
   "metadata": {},
   "outputs": [
    {
     "name": "stdout",
     "output_type": "stream",
     "text": [
      "Año actual: 2025\n"
     ]
    }
   ],
   "source": [
    "print(\"Año actual:\", 2025)"
   ]
  }
 ],
 "metadata": {
  "kernelspec": {
   "display_name": "Python 3",
   "language": "python",
   "name": "python3"
  },
  "language_info": {
   "codemirror_mode": {
    "name": "ipython",
    "version": 3
   },
   "file_extension": ".py",
   "mimetype": "text/x-python",
   "name": "python",
   "nbconvert_exporter": "python",
   "pygments_lexer": "ipython3",
   "version": "3.13.2"
  }
 },
 "nbformat": 4,
 "nbformat_minor": 5
}
